{
 "cells": [
  {
   "cell_type": "code",
   "execution_count": 18,
   "metadata": {},
   "outputs": [
    {
     "name": "stdout",
     "output_type": "stream",
     "text": [
      "20 380\n",
      "Target:  340  diff:  140\n"
     ]
    },
    {
     "data": {
      "text/plain": [
       "340"
      ]
     },
     "execution_count": 18,
     "metadata": {},
     "output_type": "execute_result"
    }
   ],
   "source": [
    "import numpy as np\n",
    "\n",
    "def heading_preprocess(center, target):\n",
    "    min = center - 180\n",
    "    max = center + 180\n",
    "    print(min, max)\n",
    "    if target < min:\n",
    "        while target < min:\n",
    "            target += 360\n",
    "    elif target > max:\n",
    "        while target > max:\n",
    "            target -= 360\n",
    "    print(\"Target: \", target, \" diff: \", target - center)\n",
    "    return target\n",
    "\n",
    "def heading_preprocess_radian(center, target):\n",
    "    min = center - np.pi\n",
    "    max = center + np.pi\n",
    "    if target < min:\n",
    "        while target < min:\n",
    "            target += 2*np.pi\n",
    "    elif target > max:\n",
    "        while target > max:\n",
    "            target -= 2*np.pi\n",
    "    return target\n",
    "\n",
    "heading_preprocess(200, -20)"
   ]
  },
  {
   "cell_type": "code",
   "execution_count": 22,
   "metadata": {},
   "outputs": [
    {
     "name": "stdout",
     "output_type": "stream",
     "text": [
      "[X_0, X_1, X_2, X_3, X_4, X_5, X_6, X_7, X_8, X_9, X_10, X_11, X_12, X_13, X_14, X_15, X_16, X_17, X_18, X_19, X_20, X_21, X_22, X_23, X_24, X_25, X_26, X_27, X_28, X_29, X_30, X_31, X_32, X_33, X_34, X_35, X_36, X_37, X_38, X_39, X_40, X_41, X_42, X_43, X_44, X_45, X_46, X_47, X_48, X_49, X_50, X_51, X_52, X_53, X_54, X_55, X_56, X_57, X_58, X_59, X_60, X_61, X_62, X_63, X_64, X_65, X_66, X_67, X_68, X_69, X_70, X_71, X_72, X_73, X_74, X_75, X_76, X_77, X_78, X_79, X_80, X_81, X_82, X_83, X_84, X_85, X_86, X_87, X_88, X_89, X_90, X_91, X_92, X_93, X_94, X_95, X_96, X_97, X_98, X_99, X_100, X_101, X_102, X_103, X_104, X_105, X_106, X_107, X_108, X_109, X_110, X_111, X_112, X_113, X_114, X_115, X_116, X_117, X_118, X_119, X_120, X_121, X_122, X_123, X_124, X_125, X_126, X_127, X_128, X_129, X_130, X_131, X_132, X_133, X_134, X_135, X_136, X_137, X_138, X_139]\n"
     ]
    }
   ],
   "source": [
    "import casadi as ca\n",
    "N = 20\n",
    "n = 7\n",
    "X = ca.SX.sym('X',N*n)\n",
    "print(X)"
   ]
  },
  {
   "cell_type": "code",
   "execution_count": 25,
   "metadata": {},
   "outputs": [
    {
     "name": "stdout",
     "output_type": "stream",
     "text": [
      "[0, (X_10-X_3), (X_17-X_3), (X_24-X_3), (X_31-X_3), (X_38-X_3), (X_45-X_3), (X_52-X_3), (X_59-X_3), (X_66-X_3)]\n"
     ]
    }
   ],
   "source": [
    "gvr_const = X[3::n][:10] - X[3::n][0]\n",
    "print(gvr_const)"
   ]
  }
 ],
 "metadata": {
  "kernelspec": {
   "display_name": "Python 3",
   "language": "python",
   "name": "python3"
  },
  "language_info": {
   "codemirror_mode": {
    "name": "ipython",
    "version": 3
   },
   "file_extension": ".py",
   "mimetype": "text/x-python",
   "name": "python",
   "nbconvert_exporter": "python",
   "pygments_lexer": "ipython3",
   "version": "3.10.12"
  }
 },
 "nbformat": 4,
 "nbformat_minor": 2
}
